{
  "nbformat": 4,
  "nbformat_minor": 0,
  "metadata": {
    "colab": {
      "provenance": [],
      "authorship_tag": "ABX9TyN18u2J1bSyd81T5t3w7a5n",
      "include_colab_link": true
    },
    "kernelspec": {
      "name": "python3",
      "display_name": "Python 3"
    },
    "language_info": {
      "name": "python"
    }
  },
  "cells": [
    {
      "cell_type": "markdown",
      "metadata": {
        "id": "view-in-github",
        "colab_type": "text"
      },
      "source": [
        "<a href=\"https://colab.research.google.com/github/yebiFesseha/Excel-for-Excel-in-tensorflow/blob/main/DanielBourkeInspiredTensorFlowExercise.ipynb\" target=\"_parent\"><img src=\"https://colab.research.google.com/assets/colab-badge.svg\" alt=\"Open In Colab\"/></a>"
      ]
    },
    {
      "cell_type": "code",
      "execution_count": null,
      "metadata": {
        "id": "Rh3H1Rz85mHh"
      },
      "outputs": [],
      "source": [
        "import numpy as np\n",
        "import matplotlib.pyplot as plt\n",
        "import tensorflow as tf\n",
        "import seaborn as sns\n",
        "plt.style.use('ggplot')"
      ]
    },
    {
      "cell_type": "markdown",
      "source": [
        "Create a Neural Network to Predict a regression problem\n",
        "  * create yout data\n",
        "  * Create a tensorflow model\n",
        "  * Compile the model\n",
        "  * Fit the model\n",
        "  * Evaluate the model\n"
      ],
      "metadata": {
        "id": "Fs35P5eW6K6A"
      }
    },
    {
      "cell_type": "markdown",
      "source": [
        "Create a set of points with the following equation 3*x - 2.5. I will create 50 points. \n",
        "* Create a tensorflow model with a number of hidden layer and 1 neuron output. Use relu activation and continue with optimising."
      ],
      "metadata": {
        "id": "hGT1oSVH9wKE"
      }
    },
    {
      "cell_type": "code",
      "source": [
        "#create the point and plot them\n",
        "X = np.arange(-25,25, 0.5)\n",
        "y =  np.multiply(X,3) - 2.5\n",
        "plt.scatter(X,\n",
        "            y,\n",
        "            c='g')\n",
        "plt.show()"
      ],
      "metadata": {
        "colab": {
          "base_uri": "https://localhost:8080/",
          "height": 278
        },
        "id": "UEzzgadC6JIe",
        "outputId": "32303371-041f-44c7-877c-4e3db2e6d95c"
      },
      "execution_count": null,
      "outputs": [
        {
          "output_type": "display_data",
          "data": {
            "text/plain": [
              "<Figure size 432x288 with 1 Axes>"
            ],
            "image/png": "[encoded data removed]"
          },
          "metadata": {}
        }
      ]
    },
    {
      "cell_type": "code",
      "source": [
        "#convert the numpy array into a tensor array\n",
        "# X = tf.convert_to_tensor(X)\n",
        "# y = tf.convert_to_tensor(y)\n",
        "#Instantiate a tensorflow model\n",
        "model = tf.keras.Sequential()\n",
        "act_function = None\n",
        "error_function = 'mae'\n",
        "\n",
        "model.add(tf.keras.layers.Dense(5, input_dim = 1, activation = act_function))\n",
        "model.add(tf.keras.layers.Dense(5, activation = 'relu'))\n",
        "# model.add(tf.keras.layers.Dense(100, activation = act_function))\n",
        "model.add(tf.keras.layers.Dense(1, activation = 'relu'))\n",
        "\n",
        "#compile the model\n",
        "\n",
        "model.compile(\n",
        "    loss=tf.keras.losses.mae,\n",
        "    optimizer=tf.keras.optimizers.Adam(learning_rate=0.01),\n",
        "    metrics=tf.keras.metrics.mae\n",
        ")\n",
        "\n",
        "#fit the model history = \n",
        "model.fit(X, y, epochs=10, verbose=True)\n",
        "\n",
        "# last_epoch_loss = history.history['loss'][-1]\n",
        "# last_epoch_metrics= history.history['mean_absolute_error'][-1]\n",
        "\n",
        "# print('last_epoch_loss=', last_epoch_loss, '\\nlast_epoch_metrics=', last_epoch_metrics)"
      ],
      "metadata": {
        "colab": {
          "base_uri": "https://localhost:8080/"
        },
        "id": "HjwuzQ9Y6JPG",
        "outputId": "505d7d2d-4d42-49b9-ead3-041cbc218491"
      },
      "execution_count": null,
      "outputs": [
        {
          "output_type": "stream",
          "name": "stdout",
          "text": [
            "Epoch 1/10\n",
            "4/4 [==============================] - 1s 4ms/step - loss: 37.2536 - mean_absolute_error: 37.2536\n",
            "Epoch 2/10\n",
            "4/4 [==============================] - 0s 3ms/step - loss: 35.0293 - mean_absolute_error: 35.0293\n",
            "Epoch 3/10\n",
            "4/4 [==============================] - 0s 3ms/step - loss: 32.8234 - mean_absolute_error: 32.8234\n",
            "Epoch 4/10\n",
            "4/4 [==============================] - 0s 4ms/step - loss: 30.2455 - mean_absolute_error: 30.2455\n",
            "Epoch 5/10\n",
            "4/4 [==============================] - 0s 3ms/step - loss: 27.6008 - mean_absolute_error: 27.6008\n",
            "Epoch 6/10\n",
            "4/4 [==============================] - 0s 6ms/step - loss: 24.5680 - mean_absolute_error: 24.5680\n",
            "Epoch 7/10\n",
            "4/4 [==============================] - 0s 3ms/step - loss: 21.7754 - mean_absolute_error: 21.7754\n",
            "Epoch 8/10\n",
            "4/4 [==============================] - 0s 4ms/step - loss: 22.6769 - mean_absolute_error: 22.6769\n",
            "Epoch 9/10\n",
            "4/4 [==============================] - 0s 5ms/step - loss: 21.9814 - mean_absolute_error: 21.9814\n",
            "Epoch 10/10\n",
            "4/4 [==============================] - 0s 3ms/step - loss: 21.5065 - mean_absolute_error: 21.5065\n"
          ]
        },
        {
          "output_type": "execute_result",
          "data": {
            "text/plain": [
              "<keras.callbacks.History at 0x7f0324148910>"
            ]
          },
          "metadata": {},
          "execution_count": 81
        }
      ]
    },
    {
      "cell_type": "code",
      "source": [
        "model.summary()"
      ],
      "metadata": {
        "colab": {
          "base_uri": "https://localhost:8080/"
        },
        "id": "TmBP4e3ly4-D",
        "outputId": "6147fd12-837c-4158-de8e-d968d5c90b24"
      },
      "execution_count": null,
      "outputs": [
        {
          "output_type": "stream",
          "name": "stdout",
          "text": [
            "Model: \"sequential_40\"\n",
            "_________________________________________________________________\n",
            " Layer (type)                Output Shape              Param #   \n",
            "=================================================================\n",
            " dense_92 (Dense)            (None, 5)                 10        \n",
            "                                                                 \n",
            " dense_93 (Dense)            (None, 5)                 30        \n",
            "                                                                 \n",
            " dense_94 (Dense)            (None, 1)                 6         \n",
            "                                                                 \n",
            "=================================================================\n",
            "Total params: 46\n",
            "Trainable params: 46\n",
            "Non-trainable params: 0\n",
            "_________________________________________________________________\n"
          ]
        }
      ]
    },
    {
      "cell_type": "code",
      "source": [
        "model.predict([25.0])"
      ],
      "metadata": {
        "colab": {
          "base_uri": "https://localhost:8080/"
        },
        "id": "eSBuTXdj6JSV",
        "outputId": "06fce84a-1dad-4bdb-f2c8-e0ffbfbd76c6"
      },
      "execution_count": null,
      "outputs": [
        {
          "output_type": "stream",
          "name": "stdout",
          "text": [
            "1/1 [==============================] - 0s 169ms/step\n"
          ]
        },
        {
          "output_type": "execute_result",
          "data": {
            "text/plain": [
              "array([[72.500435]], dtype=float32)"
            ]
          },
          "metadata": {},
          "execution_count": 152
        }
      ]
    },
    {
      "cell_type": "markdown",
      "source": [
        "* Lets split the data and train the 80% and test 20%"
      ],
      "metadata": {
        "id": "QAFeasMdEQb_"
      }
    },
    {
      "cell_type": "markdown",
      "source": [
        "Lets build a polynomial equation x**2 and fit a model to it: y = 3.3Z*x**2 - 14.2"
      ],
      "metadata": {
        "id": "sRQv8X7ShBSX"
      }
    },
    {
      "cell_type": "code",
      "source": [
        "#create the data\n",
        "X = np.arange(-100, 100,0.125)\n",
        "y = 3.3*np.square(X) - 1400.2"
      ],
      "metadata": {
        "id": "KQjOQTKJEMu2"
      },
      "execution_count": null,
      "outputs": []
    },
    {
      "cell_type": "code",
      "source": [
        "#Instantiate NN Keras model\n",
        "model = tf.keras.Sequential()"
      ],
      "metadata": {
        "id": "khZQZkT3EMyn"
      },
      "execution_count": null,
      "outputs": []
    },
    {
      "cell_type": "code",
      "source": [
        "#Build the NN with a simple model\n",
        "model.add(tf.keras.layers.Dense(10, tf.keras.activations.tanh, input_dim=1))\n",
        "# model.add(tf.keras.layers.Dense(100, tf.keras.activations.sigmoid))\n",
        "# model.add(tf.keras.layers.Dense(100, tf.keras.activations.sigmoid))\n",
        "model.add(tf.keras.layers.Dense(1, tf.keras.activations.tanh))\n",
        "\n",
        "#Calculate error and optimise and check the result/metrics using compile\n",
        "model.compile(\n",
        "    loss=tf.keras.losses.mae,\n",
        "    optimizer=tf.keras.optimizers.SGD(learning_rate=0.001),\n",
        "    metrics=tf.keras.metrics.mae\n",
        ")\n",
        "\n",
        "#run the model by fitting it to X and y\n",
        "model.fit(X, y, epochs=15000, verbose=False)\n",
        "\n",
        "#predict the values\n",
        "y_pred = model.predict(X).flatten()"
      ],
      "metadata": {
        "colab": {
          "base_uri": "https://localhost:8080/"
        },
        "id": "2ucQIEvXEM2G",
        "outputId": "fcc53e2d-ac01-4c4b-b76d-973432d02a7d"
      },
      "execution_count": null,
      "outputs": [
        {
          "output_type": "stream",
          "name": "stdout",
          "text": [
            "50/50 [==============================] - 1s 2ms/step\n"
          ]
        }
      ]
    },
    {
      "cell_type": "code",
      "source": [
        "sns.scatterplot(x=X, y=y)\n",
        "sns.scatterplot(x=X, y=y_pred, color='g')"
      ],
      "metadata": {
        "colab": {
          "base_uri": "https://localhost:8080/",
          "height": 282
        },
        "id": "UdZaPQWZkVYv",
        "outputId": "d1c09809-0ee9-4d17-f323-4c08b1a3244c"
      },
      "execution_count": null,
      "outputs": [
        {
          "output_type": "execute_result",
          "data": {
            "text/plain": [
              "<AxesSubplot:>"
            ]
          },
          "metadata": {},
          "execution_count": 59
        },
        {
          "output_type": "display_data",
          "data": {
            "text/plain": [
              "<Figure size 432x288 with 1 Axes>"
            ],
            "image/png": "[encoded data removed]"
          },
          "metadata": {}
        }
      ]
    },
    {
      "cell_type": "code",
      "source": [],
      "metadata": {
        "id": "v4NtK9hTkVcz"
      },
      "execution_count": null,
      "outputs": []
    },
    {
      "cell_type": "code",
      "source": [],
      "metadata": {
        "id": "uWPPMOiTkVgK"
      },
      "execution_count": null,
      "outputs": []
    },
    {
      "cell_type": "code",
      "source": [],
      "metadata": {
        "id": "7LW0he7UkVkb"
      },
      "execution_count": null,
      "outputs": []
    }
  ]
}